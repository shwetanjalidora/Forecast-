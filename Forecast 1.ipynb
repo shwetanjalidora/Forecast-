{
 "cells": [
  {
   "cell_type": "markdown",
   "metadata": {},
   "source": [
    "### Problem1:\n",
    "* Perform Exponential Smoothing Forecast on the Honeywell stock prices to forecast the price for 04/16/2018.\n",
    "* The given smoothing parameter(alpha) values are 0.15,0.35,0.55,0.75\n",
    "* Calculate the Mean Squared Error(MSE) for each forecast"
   ]
  },
  {
   "attachments": {
    "image.png": {
     "image/png": "[encoded data removed]"
    }
   },
   "cell_type": "markdown",
   "metadata": {},
   "source": [
    "### KEY CONCEPTS\n",
    "\n",
    "### Time Series: All the phenomenon whose behavior changes with time is called time series. The main idea of time series analysis is to decompose the original time series( sales, stock market trends, etc) into independent components. It is basically decomposed into 3 components. \n",
    "* trend: the overall direction of the series\n",
    "* seasonality: Monthly, quarterly \n",
    "* residual: noise left over after the extraction of all the components\n",
    "\n",
    "### Exponential Smoothing: \n",
    "* Exponential smoothing is a rule of thumb technique for smoothing time series data using the exponential window function\n",
    "* Whereas in the simple moving average the past observations are weighted equally, exponential functions are used to assign exponentially decreasing weights over time\n",
    "* It is an easily learned and easily applied procedure for making some determination based on prior assumptions by the user, such as seasonality\n",
    "* Exponential smoothing is often used for analysis of time-series data\n",
    "\n",
    "![image.png](attachment:image.png)\n",
    "\n",
    "* where aplha is the smoothing parameter and 0<alpha<1\n",
    "\n"
   ]
  },
  {
   "cell_type": "markdown",
   "metadata": {},
   "source": [
    "### STEP1: \n",
    "* Import all the required packages\n",
    "* Upload the Honeywell csv file which has the dataset to be worked upon\n",
    "* Read the csv file and store it in a Data Frame\n",
    "* In the given dataset, we have the prices of stock from 2017-10-16 to 2018-04-13\n",
    "* We need to forecast the stock price for 2018-04-16"
   ]
  },
  {
   "cell_type": "code",
   "execution_count": 37,
   "metadata": {},
   "outputs": [
    {
     "data": {
      "text/html": [
       "<div>\n",
       "<style scoped>\n",
       "    .dataframe tbody tr th:only-of-type {\n",
       "        vertical-align: middle;\n",
       "    }\n",
       "\n",
       "    .dataframe tbody tr th {\n",
       "        vertical-align: top;\n",
       "    }\n",
       "\n",
       "    .dataframe thead th {\n",
       "        text-align: right;\n",
       "    }\n",
       "</style>\n",
       "<table border=\"1\" class=\"dataframe\">\n",
       "  <thead>\n",
       "    <tr style=\"text-align: right;\">\n",
       "      <th></th>\n",
       "      <th>Period</th>\n",
       "      <th>Date</th>\n",
       "      <th>Close</th>\n",
       "      <th>Volume</th>\n",
       "    </tr>\n",
       "  </thead>\n",
       "  <tbody>\n",
       "    <tr>\n",
       "      <th>0</th>\n",
       "      <td>1</td>\n",
       "      <td>2017-10-16</td>\n",
       "      <td>143.750000</td>\n",
       "      <td>2001900.0</td>\n",
       "    </tr>\n",
       "    <tr>\n",
       "      <th>1</th>\n",
       "      <td>2</td>\n",
       "      <td>2017-10-17</td>\n",
       "      <td>143.429993</td>\n",
       "      <td>2435600.0</td>\n",
       "    </tr>\n",
       "    <tr>\n",
       "      <th>2</th>\n",
       "      <td>3</td>\n",
       "      <td>2017-10-18</td>\n",
       "      <td>143.440002</td>\n",
       "      <td>1734100.0</td>\n",
       "    </tr>\n",
       "    <tr>\n",
       "      <th>3</th>\n",
       "      <td>4</td>\n",
       "      <td>2017-10-19</td>\n",
       "      <td>143.619995</td>\n",
       "      <td>2623100.0</td>\n",
       "    </tr>\n",
       "    <tr>\n",
       "      <th>4</th>\n",
       "      <td>5</td>\n",
       "      <td>2017-10-20</td>\n",
       "      <td>145.350006</td>\n",
       "      <td>3369500.0</td>\n",
       "    </tr>\n",
       "  </tbody>\n",
       "</table>\n",
       "</div>"
      ],
      "text/plain": [
       "   Period       Date       Close     Volume\n",
       "0       1 2017-10-16  143.750000  2001900.0\n",
       "1       2 2017-10-17  143.429993  2435600.0\n",
       "2       3 2017-10-18  143.440002  1734100.0\n",
       "3       4 2017-10-19  143.619995  2623100.0\n",
       "4       5 2017-10-20  145.350006  3369500.0"
      ]
     },
     "execution_count": 37,
     "metadata": {},
     "output_type": "execute_result"
    }
   ],
   "source": [
    "#data extraction\n",
    "\n",
    "\n",
    "#importing required libraries\n",
    "import pandas as pd\n",
    "import numpy as np\n",
    "import matplotlib.pyplot as plt\n",
    "import seaborn as sns\n",
    "import math \n",
    "import matplotlib.dates as mdates\n",
    "\n",
    "\n",
    "my_data=pd.read_csv('honeywell1.csv',delimiter=',')\n",
    "my_data.head()\n",
    "my_data['Date']=pd.to_datetime(my_data['Date'])\n",
    "my_data.head()\n",
    "\n"
   ]
  },
  {
   "cell_type": "markdown",
   "metadata": {},
   "source": [
    "### STEP 2: Performing exponential smoothing\n",
    "* Performing exponential smoothing, with alpha values 0.15,0.35,0.55,0.75 to forecast the stock price for 04-16-2018\n",
    "* The first forecasted value will be same as the actual value\n",
    "* The calculation begins from the second value\n",
    "* Based on the above mentioned formula we calculate all the forecasted stock prices\n",
    "* As the alpha value changes, the forecasted stock prices also change\n"
   ]
  },
  {
   "cell_type": "code",
   "execution_count": 69,
   "metadata": {},
   "outputs": [
    {
     "data": {
      "text/html": [
       "<div>\n",
       "<style scoped>\n",
       "    .dataframe tbody tr th:only-of-type {\n",
       "        vertical-align: middle;\n",
       "    }\n",
       "\n",
       "    .dataframe tbody tr th {\n",
       "        vertical-align: top;\n",
       "    }\n",
       "\n",
       "    .dataframe thead th {\n",
       "        text-align: right;\n",
       "    }\n",
       "</style>\n",
       "<table border=\"1\" class=\"dataframe\">\n",
       "  <thead>\n",
       "    <tr style=\"text-align: right;\">\n",
       "      <th></th>\n",
       "      <th>Period</th>\n",
       "      <th>Date</th>\n",
       "      <th>Close</th>\n",
       "      <th>Volume</th>\n",
       "      <th>SES0.15</th>\n",
       "      <th>SES0.35</th>\n",
       "      <th>SES0.55</th>\n",
       "      <th>SES0.75</th>\n",
       "    </tr>\n",
       "  </thead>\n",
       "  <tbody>\n",
       "    <tr>\n",
       "      <th>120</th>\n",
       "      <td>121</td>\n",
       "      <td>2018-04-10</td>\n",
       "      <td>145.630005</td>\n",
       "      <td>2880400.0</td>\n",
       "      <td>145.095129</td>\n",
       "      <td>143.763095</td>\n",
       "      <td>143.346919</td>\n",
       "      <td>143.008280</td>\n",
       "    </tr>\n",
       "    <tr>\n",
       "      <th>121</th>\n",
       "      <td>122</td>\n",
       "      <td>2018-04-11</td>\n",
       "      <td>144.279999</td>\n",
       "      <td>1953100.0</td>\n",
       "      <td>145.175360</td>\n",
       "      <td>144.416513</td>\n",
       "      <td>144.602616</td>\n",
       "      <td>144.974574</td>\n",
       "    </tr>\n",
       "    <tr>\n",
       "      <th>122</th>\n",
       "      <td>123</td>\n",
       "      <td>2018-04-12</td>\n",
       "      <td>146.470001</td>\n",
       "      <td>2327600.0</td>\n",
       "      <td>145.041056</td>\n",
       "      <td>144.368733</td>\n",
       "      <td>144.425177</td>\n",
       "      <td>144.453643</td>\n",
       "    </tr>\n",
       "    <tr>\n",
       "      <th>123</th>\n",
       "      <td>124</td>\n",
       "      <td>2018-04-13</td>\n",
       "      <td>146.119995</td>\n",
       "      <td>1588500.0</td>\n",
       "      <td>145.255398</td>\n",
       "      <td>145.104177</td>\n",
       "      <td>145.549830</td>\n",
       "      <td>145.965911</td>\n",
       "    </tr>\n",
       "    <tr>\n",
       "      <th>124</th>\n",
       "      <td>125</td>\n",
       "      <td>2018-04-16</td>\n",
       "      <td>NaN</td>\n",
       "      <td>NaN</td>\n",
       "      <td>145.385088</td>\n",
       "      <td>145.459713</td>\n",
       "      <td>145.863421</td>\n",
       "      <td>146.081474</td>\n",
       "    </tr>\n",
       "  </tbody>\n",
       "</table>\n",
       "</div>"
      ],
      "text/plain": [
       "     Period       Date       Close     Volume     SES0.15     SES0.35  \\\n",
       "120     121 2018-04-10  145.630005  2880400.0  145.095129  143.763095   \n",
       "121     122 2018-04-11  144.279999  1953100.0  145.175360  144.416513   \n",
       "122     123 2018-04-12  146.470001  2327600.0  145.041056  144.368733   \n",
       "123     124 2018-04-13  146.119995  1588500.0  145.255398  145.104177   \n",
       "124     125 2018-04-16         NaN        NaN  145.385088  145.459713   \n",
       "\n",
       "        SES0.55     SES0.75  \n",
       "120  143.346919  143.008280  \n",
       "121  144.602616  144.974574  \n",
       "122  144.425177  144.453643  \n",
       "123  145.549830  145.965911  \n",
       "124  145.863421  146.081474  "
      ]
     },
     "execution_count": 69,
     "metadata": {},
     "output_type": "execute_result"
    }
   ],
   "source": [
    "def exponential_smoothing(series, alpha):\n",
    "    result = np.array([])\n",
    "    result=np.append(result,series[0]) # first value is same as series\n",
    "    \n",
    "    for n in range(1, len(series)):\n",
    "        values=(alpha * series[n-1] + (1 - alpha) * result[n-1])\n",
    "        result=np.append(result,values)\n",
    "    return result\n",
    "      \n",
    "series=my_data['Close']\n",
    "smoothing_number1=exponential_smoothing(series,0.15) \n",
    "smoothing_number2=exponential_smoothing(series,0.35)\n",
    "smoothing_number3=exponential_smoothing(series,0.55)\n",
    "smoothing_number4=exponential_smoothing(series,0.75)\n",
    "estimated_values=my_data.copy() \n",
    "\n",
    "estimated_values['SES0.15'] = smoothing_number1\n",
    "estimated_values['SES0.35'] = smoothing_number2\n",
    "estimated_values['SES0.55'] = smoothing_number3\n",
    "estimated_values['SES0.75'] = smoothing_number4\n",
    "\n",
    "estimated_values.tail()\n",
    "\n"
   ]
  },
  {
   "cell_type": "markdown",
   "metadata": {},
   "source": [
    "### Result: As we can see, for 04/16/2018 the forecasted stock price is as follows:\n",
    "#### alpha(0.15)=145.38\n",
    "#### alpha(0.35)= 145.45\n",
    "#### alpha(0.55)= 145.86\n",
    "#### alpha(0.75)= 146.08\n",
    "\n"
   ]
  },
  {
   "cell_type": "markdown",
   "metadata": {},
   "source": [
    "### STEP 3: Calculating Mean Squared Error\n",
    "* For calculating the MSE we need to find the error which is the difference between observed value and forecasted value\n",
    "* The next step is to take the absolute values of the error\n",
    "* Now, we need to square the absolute error values and take the average of the values. The resulting value is MSE\n"
   ]
  },
  {
   "cell_type": "code",
   "execution_count": 70,
   "metadata": {},
   "outputs": [
    {
     "data": {
      "text/plain": [
       "[7.907416599515166, 4.505511481669807, 3.3853274759737038, 2.9539602702372743]"
      ]
     },
     "execution_count": 70,
     "metadata": {},
     "output_type": "execute_result"
    }
   ],
   "source": [
    "from sklearn.metrics import mean_squared_error\n",
    "\n",
    "mse_result=np.array([])\n",
    "y_true = estimated_values.loc[0:123, ['Close']]\n",
    "y_pred1 = estimated_values.loc[0:123, ['SES0.15']]\n",
    "y_pred2 = estimated_values.loc[0:123, ['SES0.35']]\n",
    "y_pred3 = estimated_values.loc[0:123, ['SES0.55']]\n",
    "y_pred4 = estimated_values.loc[0:123, ['SES0.75']]\n",
    "\n",
    "a=mean_squared_error(y_true, y_pred1)\n",
    "b=mean_squared_error(y_true, y_pred2)\n",
    "c=mean_squared_error(y_true, y_pred3)\n",
    "d=mean_squared_error(y_true, y_pred4)\n",
    "\n",
    "mse_list=[a,b,c,d]\n",
    "    \n",
    "mse_list   \n"
   ]
  },
  {
   "cell_type": "markdown",
   "metadata": {},
   "source": [
    "### Result: The following are respective MSE values for different smoothing parameters\n",
    "#### alpha(0.15)=7.90\n",
    "#### alpha(0.35)= 4.50\n",
    "#### alpha(0.55)= 3.85\n",
    "#### alpha(0.75)= 2.95\n",
    "\n",
    "### When α is close to 1, dampening is quick and when α is close to 0, dampening is slow. Hence, we choose the best value for α so the value which results in the smallest MSE.\n",
    "\n",
    "### From these obtained MSE values, we can say that when alpha value is 0.75 we get the least MSE value. Hence alpha=0.75 gives the accurate forecast value of stock price for 04-16-2018\n"
   ]
  },
  {
   "cell_type": "markdown",
   "metadata": {},
   "source": [
    "### CONCLUSION: Based on the forecasted values and best smoothing parameter(alpha=0.75) we can say that the price of stock on 04-16-2018 will be 146.08"
   ]
  }
 ],
 "metadata": {
  "kernelspec": {
   "display_name": "Python 3",
   "language": "python",
   "name": "python3"
  },
  "language_info": {
   "codemirror_mode": {
    "name": "ipython",
    "version": 3
   },
   "file_extension": ".py",
   "mimetype": "text/x-python",
   "name": "python",
   "nbconvert_exporter": "python",
   "pygments_lexer": "ipython3",
   "version": "3.7.1"
  }
 },
 "nbformat": 4,
 "nbformat_minor": 2
}
