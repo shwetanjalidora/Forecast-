{
 "cells": [
  {
   "cell_type": "markdown",
   "metadata": {},
   "source": [
    "### PROBLEM 3:\n",
    "* Perform simple regression analysis of the stock prices vs the period to predict the stock value for 04-16-2018\n",
    "* Calculate th Mean Squared Error(MSE) and compare its value with those of Problem 1 and 2"
   ]
  },
  {
   "cell_type": "markdown",
   "metadata": {},
   "source": [
    "### KEY CONCEPTS: \n",
    "\n",
    "### Simple Linear Regression:\n",
    "* Simple linear regression is a statistical method that allows us to summarize and study relationships between two continuous (quantitative) variables:\n",
    "  * One variable, denoted x, is regarded as the independent variable.\n",
    "  * The other variable, denoted y, is regarded as the dependent variable.\n",
    "  \n",
    "* Regression assumptions:\n",
    "\n",
    "  * Y is linearly related to x or a transformation of x\n",
    "\n",
    "  * deviations from the regression line (residuals) follow a normal distribution\n",
    "\n",
    "  * deviations from the regression line (residuals) have uniform variance\n",
    "\n",
    " \n"
   ]
  },
  {
   "cell_type": "markdown",
   "metadata": {},
   "source": [
    "### STEP 1: \n",
    "* Import the required packages\n",
    "* Provide data to work with and eventually do appropriate transformations\n",
    "* Create a regression model and fit it with existing data\n",
    "* Check the results of model fitting to know whether the model is satisfactory\n",
    "* Apply the model for predictions"
   ]
  },
  {
   "cell_type": "code",
   "execution_count": 105,
   "metadata": {},
   "outputs": [
    {
     "data": {
      "text/html": [
       "<div>\n",
       "<style scoped>\n",
       "    .dataframe tbody tr th:only-of-type {\n",
       "        vertical-align: middle;\n",
       "    }\n",
       "\n",
       "    .dataframe tbody tr th {\n",
       "        vertical-align: top;\n",
       "    }\n",
       "\n",
       "    .dataframe thead th {\n",
       "        text-align: right;\n",
       "    }\n",
       "</style>\n",
       "<table border=\"1\" class=\"dataframe\">\n",
       "  <thead>\n",
       "    <tr style=\"text-align: right;\">\n",
       "      <th></th>\n",
       "      <th>Period</th>\n",
       "      <th>Date</th>\n",
       "      <th>Close</th>\n",
       "      <th>Volume</th>\n",
       "    </tr>\n",
       "  </thead>\n",
       "  <tbody>\n",
       "    <tr>\n",
       "      <th>0</th>\n",
       "      <td>1</td>\n",
       "      <td>2017-10-16</td>\n",
       "      <td>143.750000</td>\n",
       "      <td>2001900</td>\n",
       "    </tr>\n",
       "    <tr>\n",
       "      <th>1</th>\n",
       "      <td>2</td>\n",
       "      <td>2017-10-17</td>\n",
       "      <td>143.429993</td>\n",
       "      <td>2435600</td>\n",
       "    </tr>\n",
       "    <tr>\n",
       "      <th>2</th>\n",
       "      <td>3</td>\n",
       "      <td>2017-10-18</td>\n",
       "      <td>143.440002</td>\n",
       "      <td>1734100</td>\n",
       "    </tr>\n",
       "    <tr>\n",
       "      <th>3</th>\n",
       "      <td>4</td>\n",
       "      <td>2017-10-19</td>\n",
       "      <td>143.619995</td>\n",
       "      <td>2623100</td>\n",
       "    </tr>\n",
       "    <tr>\n",
       "      <th>4</th>\n",
       "      <td>5</td>\n",
       "      <td>2017-10-20</td>\n",
       "      <td>145.350006</td>\n",
       "      <td>3369500</td>\n",
       "    </tr>\n",
       "  </tbody>\n",
       "</table>\n",
       "</div>"
      ],
      "text/plain": [
       "   Period       Date       Close   Volume\n",
       "0       1 2017-10-16  143.750000  2001900\n",
       "1       2 2017-10-17  143.429993  2435600\n",
       "2       3 2017-10-18  143.440002  1734100\n",
       "3       4 2017-10-19  143.619995  2623100\n",
       "4       5 2017-10-20  145.350006  3369500"
      ]
     },
     "execution_count": 105,
     "metadata": {},
     "output_type": "execute_result"
    }
   ],
   "source": [
    "#data extraction\n",
    "\n",
    "\n",
    "#importing required libraries\n",
    "import pandas as pd\n",
    "import numpy as np\n",
    "import matplotlib.pyplot as plt\n",
    "import seaborn as sns\n",
    "import math \n",
    "import matplotlib.dates as mdates\n",
    "from sklearn.linear_model import LinearRegression\n",
    "\n",
    "my_data=pd.read_csv('honeywell.csv',delimiter=',')\n",
    "my_data.head()\n",
    "my_data['Date']=pd.to_datetime(my_data['Date'])\n",
    "my_data.head()\n",
    "\n"
   ]
  },
  {
   "cell_type": "markdown",
   "metadata": {},
   "source": [
    "#### Here we define the data to work with\n",
    "#### The inputs (regressors, 𝑥) and output (predictor, 𝑦) should be arrays or similar objects "
   ]
  },
  {
   "cell_type": "code",
   "execution_count": 106,
   "metadata": {},
   "outputs": [],
   "source": [
    "test=np.array(my_data['Period']).reshape(-1, 1)\n",
    "pred=np.array(my_data['Close'])"
   ]
  },
  {
   "cell_type": "markdown",
   "metadata": {},
   "source": [
    "#### Next we create a linear regression model and fit it using the existing data\n",
    "\n"
   ]
  },
  {
   "cell_type": "code",
   "execution_count": 163,
   "metadata": {},
   "outputs": [
    {
     "data": {
      "text/plain": [
       "LinearRegression(copy_X=True, fit_intercept=True, n_jobs=None,\n",
       "         normalize=False)"
      ]
     },
     "execution_count": 163,
     "metadata": {},
     "output_type": "execute_result"
    }
   ],
   "source": [
    "model = LinearRegression().fit(test, pred)\n",
    "model"
   ]
  },
  {
   "cell_type": "markdown",
   "metadata": {},
   "source": [
    "#### The output of the above statement will be\n",
    "* fit_intercept is a Boolean that decides whether to calculate the intercept or consider it equal to zero \n",
    "* normalize is a Boolean (False by default) that decides whether to normalize the input variables or not \n",
    "* copy_X is a Boolean (True by default) that decides whether to copy or overwrite the input variables \n",
    "* n_jobs is an integer or None (default) and represents the number of jobs used in parallel computation. None usually means one job and -1 to use all processors."
   ]
  },
  {
   "cell_type": "markdown",
   "metadata": {},
   "source": [
    "\n",
    "### STEP 2: Coefficient of determination\n",
    "* The coefficient of determination (denoted by R2) is a key output of regression analysis. \n",
    "* The coefficient of determination is the square of the correlation (r) between predicted y scores and actual y scores; thus, it ranges from 0 to 1.\n",
    "* An Rsquare of 0 means that the dependent variable cannot be predicted from the independent variable.\n",
    "* An Rsquare of 1 means the dependent variable can be predicted without error from the independent variable.\n",
    "* An Rsquare between 0 and 1 indicates the extent to which the dependent variable is predictable.\n",
    "* For example, an R2 of 0.10 means that 10 percent of the variance in Y is predictable from X\n"
   ]
  },
  {
   "cell_type": "code",
   "execution_count": 109,
   "metadata": {},
   "outputs": [
    {
     "name": "stdout",
     "output_type": "stream",
     "text": [
      "coefficient of determination: 0.003980965261022873\n"
     ]
    }
   ],
   "source": [
    "r_sq = model.score(test, pred)\n",
    "print('coefficient of determination:', r_sq)"
   ]
  },
  {
   "cell_type": "markdown",
   "metadata": {},
   "source": [
    "### STEP 3: Intercept and Slope\n",
    "* The estimated regression function has the equation 𝑓(𝑥) = 𝑏₀ + 𝑏₁𝑥\n",
    "* where 𝑏₀ is the intercept and 𝑏₁ is the slope"
   ]
  },
  {
   "cell_type": "code",
   "execution_count": 181,
   "metadata": {},
   "outputs": [
    {
     "name": "stdout",
     "output_type": "stream",
     "text": [
      "intercept: 150.35363989575137\n",
      "slope: [0.00892628]\n"
     ]
    },
    {
     "data": {
      "text/plain": [
       "151.46942489575136"
      ]
     },
     "execution_count": 181,
     "metadata": {},
     "output_type": "execute_result"
    }
   ],
   "source": [
    "print('intercept:', model.intercept_)\n",
    "\n",
    "print('slope:', model.coef_)\n",
    "\n"
   ]
  },
  {
   "cell_type": "markdown",
   "metadata": {},
   "source": [
    "### RESULT: The value 𝑏₀ = 150.353 illustrates that the model predicts the response 150.35 when 𝑥 is zero. \n",
    "### The value 𝑏₁ = 0.00892 means that the predicted response rises by 0.00892 when 𝑥 is increased by one."
   ]
  },
  {
   "cell_type": "markdown",
   "metadata": {},
   "source": [
    "### STEP 4:  Predicted values\n",
    "* To obtain the predicted response, we use .predict()\n",
    "* We pass the regressor as the argument and get the corresponding predicted responses\n",
    "\n"
   ]
  },
  {
   "cell_type": "code",
   "execution_count": 165,
   "metadata": {},
   "outputs": [
    {
     "name": "stdout",
     "output_type": "stream",
     "text": [
      "predicted response:\n",
      "[150.36256617 150.37149245 150.38041873 150.38934501 150.39827128\n",
      " 150.40719756 150.41612384 150.42505012 150.43397639 150.44290267\n",
      " 150.45182895 150.46075522 150.4696815  150.47860778 150.48753406\n",
      " 150.49646033 150.50538661 150.51431289 150.52323917 150.53216544\n",
      " 150.54109172 150.550018   150.55894428 150.56787055 150.57679683\n",
      " 150.58572311 150.59464939 150.60357566 150.61250194 150.62142822\n",
      " 150.6303545  150.63928077 150.64820705 150.65713333 150.66605961\n",
      " 150.67498588 150.68391216 150.69283844 150.70176471 150.71069099\n",
      " 150.71961727 150.72854355 150.73746982 150.7463961  150.75532238\n",
      " 150.76424866 150.77317493 150.78210121 150.79102749 150.79995377\n",
      " 150.80888004 150.81780632 150.8267326  150.83565888 150.84458515\n",
      " 150.85351143 150.86243771 150.87136399 150.88029026 150.88921654\n",
      " 150.89814282 150.9070691  150.91599537 150.92492165 150.93384793\n",
      " 150.9427742  150.95170048 150.96062676 150.96955304 150.97847931\n",
      " 150.98740559 150.99633187 151.00525815 151.01418442 151.0231107\n",
      " 151.03203698 151.04096326 151.04988953 151.05881581 151.06774209\n",
      " 151.07666837 151.08559464 151.09452092 151.1034472  151.11237348\n",
      " 151.12129975 151.13022603 151.13915231 151.14807859 151.15700486\n",
      " 151.16593114 151.17485742 151.18378369 151.19270997 151.20163625\n",
      " 151.21056253 151.2194888  151.22841508 151.23734136 151.24626764\n",
      " 151.25519391 151.26412019 151.27304647 151.28197275 151.29089902\n",
      " 151.2998253  151.30875158 151.31767786 151.32660413 151.33553041\n",
      " 151.34445669 151.35338297 151.36230924 151.37123552 151.3801618\n",
      " 151.38908808 151.39801435 151.40694063 151.41586691 151.42479318\n",
      " 151.43371946 151.44264574 151.45157202 151.46049829]\n"
     ]
    }
   ],
   "source": [
    "y_prediction = model.predict(test)\n",
    "print('predicted response:', y_prediction, sep='\\n')\n"
   ]
  },
  {
   "cell_type": "markdown",
   "metadata": {},
   "source": [
    "### Forecasted value for 04-16-2018:\n",
    "\n"
   ]
  },
  {
   "cell_type": "code",
   "execution_count": 182,
   "metadata": {},
   "outputs": [
    {
     "data": {
      "text/plain": [
       "151.46942489575136"
      ]
     },
     "execution_count": 182,
     "metadata": {},
     "output_type": "execute_result"
    }
   ],
   "source": [
    "forecast=(150.35363989575137 )+ (125*0.00892628)\n",
    "forecast\n"
   ]
  },
  {
   "cell_type": "markdown",
   "metadata": {},
   "source": [
    "### STEP 5: Coefficient of correlation\n",
    "* In simple linear regression analysis, the coefficient of correlation is a statistic which indicates an association between the independent variable and the dependent variable \n",
    "* The coefficient of correlation is represented by \"r\" and it has a range of -1.00 to +1.00\n",
    "* A correlation coefficient of 1 means that for every positive increase in one variable, there is a positive increase of a fixed proportion in the other\n",
    "* A correlation coefficient of -1 means that for every positive increase in one variable, there is a negative decrease of a fixed proportion in the other\n",
    "* When the coefficient of correlation is a positive amount, such as +0.80, it means the dependent variable is increasing when the independent variable is increasing and vice versa"
   ]
  },
  {
   "cell_type": "code",
   "execution_count": 120,
   "metadata": {},
   "outputs": [
    {
     "data": {
      "text/html": [
       "<div>\n",
       "<style scoped>\n",
       "    .dataframe tbody tr th:only-of-type {\n",
       "        vertical-align: middle;\n",
       "    }\n",
       "\n",
       "    .dataframe tbody tr th {\n",
       "        vertical-align: top;\n",
       "    }\n",
       "\n",
       "    .dataframe thead th {\n",
       "        text-align: right;\n",
       "    }\n",
       "</style>\n",
       "<table border=\"1\" class=\"dataframe\">\n",
       "  <thead>\n",
       "    <tr style=\"text-align: right;\">\n",
       "      <th></th>\n",
       "      <th>Period</th>\n",
       "      <th>Close</th>\n",
       "      <th>Volume</th>\n",
       "    </tr>\n",
       "  </thead>\n",
       "  <tbody>\n",
       "    <tr>\n",
       "      <th>Period</th>\n",
       "      <td>1.000000</td>\n",
       "      <td>0.063095</td>\n",
       "      <td>0.165801</td>\n",
       "    </tr>\n",
       "    <tr>\n",
       "      <th>Close</th>\n",
       "      <td>0.063095</td>\n",
       "      <td>1.000000</td>\n",
       "      <td>0.291918</td>\n",
       "    </tr>\n",
       "    <tr>\n",
       "      <th>Volume</th>\n",
       "      <td>0.165801</td>\n",
       "      <td>0.291918</td>\n",
       "      <td>1.000000</td>\n",
       "    </tr>\n",
       "  </tbody>\n",
       "</table>\n",
       "</div>"
      ],
      "text/plain": [
       "          Period     Close    Volume\n",
       "Period  1.000000  0.063095  0.165801\n",
       "Close   0.063095  1.000000  0.291918\n",
       "Volume  0.165801  0.291918  1.000000"
      ]
     },
     "execution_count": 120,
     "metadata": {},
     "output_type": "execute_result"
    }
   ],
   "source": [
    "my_data.corr()"
   ]
  },
  {
   "cell_type": "markdown",
   "metadata": {},
   "source": [
    "### RESULT: As we can observe from the obtained correlation coefficients, it is 0.063 for period vs price. From this value we can say that there is very less(negligible) dependency of these two variables"
   ]
  },
  {
   "cell_type": "code",
   "execution_count": 122,
   "metadata": {},
   "outputs": [
    {
     "data": {
      "image/png": "[encoded data removed]",
      "text/plain": [
       "<Figure size 432x288 with 2 Axes>"
      ]
     },
     "metadata": {
      "needs_background": "light"
     },
     "output_type": "display_data"
    }
   ],
   "source": [
    "sns.heatmap(my_data.corr(), cmap='Blues')\n",
    "\n",
    "plt.title('Heatmap of Kickstarter Feature Correlations')\n",
    "plt.show()"
   ]
  },
  {
   "cell_type": "markdown",
   "metadata": {},
   "source": [
    "### STEP 6: Calculation of MSE\n"
   ]
  },
  {
   "cell_type": "code",
   "execution_count": 126,
   "metadata": {},
   "outputs": [
    {
     "data": {
      "text/plain": [
       "25.54194045701938"
      ]
     },
     "execution_count": 126,
     "metadata": {},
     "output_type": "execute_result"
    }
   ],
   "source": [
    "from sklearn.metrics import mean_squared_error\n",
    "y_true = np.array(my_data['Close'])\n",
    "y_pred = y_prediction\n",
    "mean_squared_error(y_true, y_pred)"
   ]
  },
  {
   "cell_type": "markdown",
   "metadata": {},
   "source": [
    "### RESULT: Whenever the MSE value is least, we get more accurate forecast value. In our case, when we performed simple linear regression is the highest(25.54) whereas the MSE value is least when adjusted exponential smoothing is done with a trend parameter of beta=0.15 (0.16007935283965696).\n",
    "\n",
    "### Hence we choose that value for getting the most accurate forecast (problem 2 with beta=0.15)"
   ]
  },
  {
   "cell_type": "markdown",
   "metadata": {},
   "source": [
    "\n",
    "### Residual = Observed – Predicted\n"
   ]
  },
  {
   "cell_type": "code",
   "execution_count": 175,
   "metadata": {},
   "outputs": [
    {
     "data": {
      "text/plain": [
       "124"
      ]
     },
     "execution_count": 175,
     "metadata": {},
     "output_type": "execute_result"
    }
   ],
   "source": [
    "a=y_true-y_pred\n",
    "len(a)"
   ]
  },
  {
   "cell_type": "markdown",
   "metadata": {},
   "source": [
    "### STEP 7: Histogram of Residuals"
   ]
  },
  {
   "cell_type": "code",
   "execution_count": 133,
   "metadata": {},
   "outputs": [
    {
     "data": {
      "text/plain": [
       "(array([ 5.,  7.,  7., 14., 10.,  5.,  6., 11.,  4.,  8., 20.,  6.,  5.,\n",
       "         4.,  5.,  4.,  1.,  1.,  0.,  1.]),\n",
       " array([-8.9501688 , -7.80253039, -6.65489198, -5.50725357, -4.35961516,\n",
       "        -3.21197675, -2.06433834, -0.91669993,  0.23093848,  1.37857689,\n",
       "         2.52621531,  3.67385372,  4.82149213,  5.96913054,  7.11676895,\n",
       "         8.26440736,  9.41204577, 10.55968418, 11.70732259, 12.854961  ,\n",
       "        14.00259941]),\n",
       " <a list of 20 Patch objects>)"
      ]
     },
     "execution_count": 133,
     "metadata": {},
     "output_type": "execute_result"
    },
    {
     "data": {
      "image/png": "[encoded data removed]",
      "text/plain": [
       "<Figure size 432x288 with 1 Axes>"
      ]
     },
     "metadata": {
      "needs_background": "light"
     },
     "output_type": "display_data"
    }
   ],
   "source": [
    "plt.hist(a,bins=20)"
   ]
  },
  {
   "cell_type": "markdown",
   "metadata": {},
   "source": [
    "### RESULT: The resukting plot of residuals is a normal curve as there is onlt one peak"
   ]
  },
  {
   "cell_type": "markdown",
   "metadata": {},
   "source": [
    "### STEP 9: Normal Probability plot of residuals\n",
    "* The normal probability plot is a graphical technique for assessing whether or not a data set is approximately normally distributed.\n",
    "* The data are plotted against a theoretical normal distribution in such a way that the points should form an approximate straight line. \n",
    "\n"
   ]
  },
  {
   "cell_type": "code",
   "execution_count": 158,
   "metadata": {},
   "outputs": [
    {
     "data": {
      "image/png": "[encoded data removed]",
      "text/plain": [
       "<Figure size 432x288 with 1 Axes>"
      ]
     },
     "metadata": {
      "needs_background": "light"
     },
     "output_type": "display_data"
    }
   ],
   "source": [
    "\n",
    "b=stats.probplot(a,plot=plt)"
   ]
  },
  {
   "cell_type": "markdown",
   "metadata": {},
   "source": [
    "### RESULT: Examine the probability plot and assess how closely the data points follow the fitted distribution line. If the specified theoretical distribution is a good fit, the points fall closely along the straight line. The normal distribution appears to be a good fit to the data."
   ]
  }
 ],
 "metadata": {
  "kernelspec": {
   "display_name": "Python 3",
   "language": "python",
   "name": "python3"
  },
  "language_info": {
   "codemirror_mode": {
    "name": "ipython",
    "version": 3
   },
   "file_extension": ".py",
   "mimetype": "text/x-python",
   "name": "python",
   "nbconvert_exporter": "python",
   "pygments_lexer": "ipython3",
   "version": "3.7.1"
  }
 },
 "nbformat": 4,
 "nbformat_minor": 2
}
